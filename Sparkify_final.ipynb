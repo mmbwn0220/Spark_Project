{
 "cells": [
  {
   "cell_type": "markdown",
   "metadata": {},
   "source": [
    "# Sparkify Project Workspace\n",
    "This workspace contains a tiny subset (128MB) of the full dataset available (12GB). Feel free to use this workspace to build your project, or to explore a smaller subset with Spark before deploying your cluster on the cloud. Instructions for setting up your Spark cluster is included in the last lesson of the Extracurricular Spark Course content.\n",
    "\n",
    "You can follow the steps below to guide your data analysis and model building portion of this project."
   ]
  },
  {
   "cell_type": "code",
   "execution_count": 1,
   "metadata": {},
   "outputs": [],
   "source": [
    "import pyspark\n",
    "from pyspark import SparkConf\n",
    "from pyspark.sql import SparkSession\n",
    "from pyspark.sql.functions import col, lit,substring, udf, isnan, count, when, desc, sort_array, asc, avg, lag, floor,split\n",
    "from pyspark.sql.functions import from_unixtime, dayofmonth, month, datediff, to_date, lit, current_date\n",
    "from pyspark.sql.types import IntegerType, DateType\n",
    "from pyspark.sql.window import Window\n",
    "from pyspark.sql.functions import sum as Fsum\n",
    "from pyspark.ml.feature import VectorAssembler\n",
    "from pyspark.ml.feature import MinMaxScaler ,StandardScaler,PCA\n",
    "from pyspark.ml.linalg import Vectors\n",
    "from pyspark.sql.types import DoubleType\n",
    "from pyspark.ml.tuning import CrossValidator, ParamGridBuilder\n",
    "from pyspark.ml import Pipeline \n",
    "from pyspark.ml.classification import DecisionTreeClassifier,LogisticRegression, RandomForestClassifier, LinearSVC, GBTClassifier\n",
    "from pyspark.ml.evaluation import BinaryClassificationEvaluator, MulticlassClassificationEvaluator\n",
    "from pyspark.mllib.evaluation import MulticlassMetrics\n",
    "import seaborn as sns\n",
    "import datetime\n",
    "import matplotlib.pyplot as plt\n",
    "import pandas as pd"
   ]
  },
  {
   "cell_type": "code",
   "execution_count": 2,
   "metadata": {},
   "outputs": [],
   "source": [
    "# create a Spark session \n",
    "spark = SparkSession.builder \\\n",
    "    .master(\"local\") \\\n",
    "    .appName(\"Sparkify Project\") \\\n",
    "    .getOrCreate()\n"
   ]
  },
  {
   "cell_type": "markdown",
   "metadata": {},
   "source": [
    "# Load and Clean Dataset\n",
    "In this workspace, the mini-dataset file is `mini_sparkify_event_data.json`. Load and clean the dataset, checking for invalid or missing data - for example, records without userids or sessionids. "
   ]
  },
  {
   "cell_type": "code",
   "execution_count": 3,
   "metadata": {},
   "outputs": [
    {
     "name": "stdout",
     "output_type": "stream",
     "text": [
      "missing column values count:\n",
      "\n",
      "artist: 58392\n",
      "firstName: 8346\n",
      "gender: 8346\n",
      "lastName: 8346\n",
      "length: 58392\n",
      "location: 8346\n",
      "registration: 8346\n",
      "song: 58392\n",
      "userAgent: 8346\n",
      "userId: 8346\n"
     ]
    }
   ],
   "source": [
    "#load dataset\n",
    "\n",
    "path = \"mini_sparkify_event_data.json\"\n",
    "df = spark.read.json(path)\n",
    "\n",
    "df.head(1)\n",
    "#df.printSchema()\n",
    "\n",
    "# Explore missing values in data\n",
    "def count_missing(df, col1):\n",
    "    \"\"\"\n",
    "    A helper function which count how many missing values in a column of the dataset.\n",
    "    \"\"\"\n",
    "    return df.filter((isnan(df[col1])) | (df[col1].isNull()) | (df[col1] == \"\")).count()\n",
    "\n",
    "print(\"missing column values count:\\n\")\n",
    "for col1 in df.columns:\n",
    "    missing_count = count_missing(df, col1)\n",
    "    if missing_count > 0:\n",
    "        print(\"{}: {}\".format(col1, missing_count))"
   ]
  },
  {
   "cell_type": "code",
   "execution_count": 4,
   "metadata": {},
   "outputs": [
    {
     "name": "stdout",
     "output_type": "stream",
     "text": [
      "row count before cleaning:\n"
     ]
    },
    {
     "data": {
      "text/plain": [
       "286500"
      ]
     },
     "execution_count": 4,
     "metadata": {},
     "output_type": "execute_result"
    }
   ],
   "source": [
    "print(\"row count before cleaning:\")\n",
    "df.count()"
   ]
  },
  {
   "cell_type": "code",
   "execution_count": 5,
   "metadata": {},
   "outputs": [
    {
     "name": "stdout",
     "output_type": "stream",
     "text": [
      "row count after cleaning:\n"
     ]
    },
    {
     "data": {
      "text/plain": [
       "278154"
      ]
     },
     "execution_count": 5,
     "metadata": {},
     "output_type": "execute_result"
    }
   ],
   "source": [
    "# filtering out missing userids\n",
    "df = df.filter((df.userId != \"\") | (df.sessionId != \"\"))\n",
    "print(\"row count after cleaning:\")\n",
    "df.count()"
   ]
  },
  {
   "cell_type": "markdown",
   "metadata": {},
   "source": [
    "# Exploratory Data Analysis\n",
    "When you're working with the full dataset, perform EDA by loading a small subset of the data and doing basic manipulations within Spark. In this workspace, you are already provided a small subset of data you can explore.\n",
    "\n",
    "### Define Churn\n",
    "\n",
    "Once you've done some preliminary analysis, create a column `Churn` to use as the label for your model. I suggest using the `Cancellation Confirmation` events to define your churn, which happen for both paid and free users. As a bonus task, you can also look into the `Downgrade` events.\n",
    "\n",
    "### Explore Data\n",
    "Once you've defined churn, perform some exploratory data analysis to observe the behavior for users who stayed vs users who churned. You can start by exploring aggregates on these two groups of users, observing how much of a specific action they experienced per a certain time unit or number of songs played."
   ]
  },
  {
   "cell_type": "code",
   "execution_count": 6,
   "metadata": {},
   "outputs": [
    {
     "name": "stdout",
     "output_type": "stream",
     "text": [
      "root\n",
      " |-- artist: string (nullable = true)\n",
      " |-- auth: string (nullable = true)\n",
      " |-- firstName: string (nullable = true)\n",
      " |-- gender: string (nullable = true)\n",
      " |-- itemInSession: long (nullable = true)\n",
      " |-- lastName: string (nullable = true)\n",
      " |-- length: double (nullable = true)\n",
      " |-- level: string (nullable = true)\n",
      " |-- location: string (nullable = true)\n",
      " |-- method: string (nullable = true)\n",
      " |-- page: string (nullable = true)\n",
      " |-- registration: long (nullable = true)\n",
      " |-- sessionId: long (nullable = true)\n",
      " |-- song: string (nullable = true)\n",
      " |-- status: long (nullable = true)\n",
      " |-- ts: long (nullable = true)\n",
      " |-- userAgent: string (nullable = true)\n",
      " |-- userId: string (nullable = true)\n",
      "\n"
     ]
    }
   ],
   "source": [
    "# observation\n",
    "df.printSchema()"
   ]
  },
  {
   "cell_type": "markdown",
   "metadata": {},
   "source": [
    "from pyspark.mllib.stat import Statistics\n",
    "from pyspark.ml.stat import Correlation\n",
    "def compute_correlation_matrix(df, method='pearson'):\n",
    "    # wrapper around\n",
    "    # https://forums.databricks.com/questions/3092/how-to-calculate-correlation-matrix-with-all-colum.html\n",
    "    df_rdd = df.rdd.map(lambda row: row[0:])\n",
    "    corr_mat = Statistics.corr(df_rdd, method=method)\n",
    "    corr_mat_df = pd.DataFrame(corr_mat,\n",
    "                    columns=df.columns, \n",
    "                    index=df.columns)\n",
    "    return corr_mat_df\n",
    "\n",
    "cm = compute_correlation_matrix (df)"
   ]
  },
  {
   "cell_type": "markdown",
   "metadata": {},
   "source": [
    "Spark SQL EDA "
   ]
  },
  {
   "cell_type": "code",
   "execution_count": 7,
   "metadata": {},
   "outputs": [
    {
     "name": "stdout",
     "output_type": "stream",
     "text": [
      "+----------------------+\n",
      "|count(DISTINCT userID)|\n",
      "+----------------------+\n",
      "|                   225|\n",
      "+----------------------+\n",
      "\n"
     ]
    }
   ],
   "source": [
    "#Spark SQL data EDA \n",
    "df.createOrReplaceTempView(\"df_table\")\n",
    "\n",
    "# Get number of users \n",
    "spark.sql('''\n",
    "          SELECT  COUNT(DISTINCT userID) \n",
    "          FROM df_table \n",
    "          '''\n",
    "          ).show()"
   ]
  },
  {
   "cell_type": "code",
   "execution_count": 8,
   "metadata": {},
   "outputs": [
    {
     "name": "stdout",
     "output_type": "stream",
     "text": [
      "+-------------------------+\n",
      "|count(DISTINCT sessionID)|\n",
      "+-------------------------+\n",
      "|                     2312|\n",
      "+-------------------------+\n",
      "\n"
     ]
    }
   ],
   "source": [
    "# Get number of sessions \n",
    "spark.sql('''\n",
    "          SELECT  COUNT(DISTINCT sessionID) \n",
    "          FROM df_table \n",
    "          '''\n",
    "          ).show()"
   ]
  },
  {
   "cell_type": "code",
   "execution_count": 9,
   "metadata": {},
   "outputs": [
    {
     "name": "stdout",
     "output_type": "stream",
     "text": [
      "+-----+\n",
      "|level|\n",
      "+-----+\n",
      "| free|\n",
      "| paid|\n",
      "+-----+\n",
      "\n"
     ]
    }
   ],
   "source": [
    "# Get levels\n",
    "spark.sql('''\n",
    "          SELECT  DISTINCT level \n",
    "          FROM df_table \n",
    "          '''\n",
    "          ).show()"
   ]
  },
  {
   "cell_type": "code",
   "execution_count": 10,
   "metadata": {},
   "outputs": [
    {
     "name": "stdout",
     "output_type": "stream",
     "text": [
      "+------+----------------------+\n",
      "|gender|count(DISTINCT userID)|\n",
      "+------+----------------------+\n",
      "|     F|                   104|\n",
      "|     M|                   121|\n",
      "+------+----------------------+\n",
      "\n"
     ]
    }
   ],
   "source": [
    "# Get gender count\n",
    "spark.sql('''\n",
    "          SELECT  gender,count(distinct userID)\n",
    "          FROM df_table \n",
    "          group by 1\n",
    "          '''\n",
    "          ).show()"
   ]
  },
  {
   "cell_type": "code",
   "execution_count": 11,
   "metadata": {},
   "outputs": [
    {
     "name": "stdout",
     "output_type": "stream",
     "text": [
      "+------+\n",
      "|status|\n",
      "+------+\n",
      "|   307|\n",
      "|   404|\n",
      "|   200|\n",
      "+------+\n",
      "\n"
     ]
    }
   ],
   "source": [
    "# Get values of status\n",
    "spark.sql('''\n",
    "          SELECT  DISTINCT status \n",
    "          FROM df_table \n",
    "          '''\n",
    "          ).show()"
   ]
  },
  {
   "cell_type": "code",
   "execution_count": 12,
   "metadata": {},
   "outputs": [
    {
     "name": "stdout",
     "output_type": "stream",
     "text": [
      "+--------------------+\n",
      "|                page|\n",
      "+--------------------+\n",
      "|               About|\n",
      "|          Add Friend|\n",
      "|     Add to Playlist|\n",
      "|              Cancel|\n",
      "|Cancellation Conf...|\n",
      "|           Downgrade|\n",
      "|               Error|\n",
      "|                Help|\n",
      "|                Home|\n",
      "|              Logout|\n",
      "|            NextSong|\n",
      "|         Roll Advert|\n",
      "|       Save Settings|\n",
      "|            Settings|\n",
      "|    Submit Downgrade|\n",
      "|      Submit Upgrade|\n",
      "|         Thumbs Down|\n",
      "|           Thumbs Up|\n",
      "|             Upgrade|\n",
      "+--------------------+\n",
      "\n"
     ]
    }
   ],
   "source": [
    "#page info\n",
    "spark.sql('''\n",
    "          SELECT  DISTINCT page \n",
    "          FROM df_table \n",
    "          order by 1\n",
    "          '''\n",
    "          ).show()"
   ]
  },
  {
   "cell_type": "code",
   "execution_count": 13,
   "metadata": {},
   "outputs": [
    {
     "name": "stdout",
     "output_type": "stream",
     "text": [
      "+------+-----------+\n",
      "|gender|churn_count|\n",
      "+------+-----------+\n",
      "|     F|         20|\n",
      "|     M|         32|\n",
      "+------+-----------+\n",
      "\n"
     ]
    }
   ],
   "source": [
    "#gender distribution for Cancellation\n",
    "spark.sql('''\n",
    "          SELECT gender, count(distinct userID) as churn_count\n",
    "          FROM df_table \n",
    "          where page = \"Cancellation Confirmation\"\n",
    "          group by 1\n",
    "          '''\n",
    "          ).show()"
   ]
  },
  {
   "cell_type": "code",
   "execution_count": 14,
   "metadata": {},
   "outputs": [
    {
     "name": "stdout",
     "output_type": "stream",
     "text": [
      "+----+-----------------+\n",
      "|hour|plays_cancle_hour|\n",
      "+----+-----------------+\n",
      "|   7|                6|\n",
      "|  19|                5|\n",
      "|  15|                4|\n",
      "|  16|                4|\n",
      "|  22|                3|\n",
      "|  20|                3|\n",
      "|   0|                3|\n",
      "|  18|                3|\n",
      "|  21|                3|\n",
      "|  11|                2|\n",
      "|   3|                2|\n",
      "|  17|                2|\n",
      "|   4|                2|\n",
      "|  12|                2|\n",
      "|   8|                1|\n",
      "|   5|                1|\n",
      "|  23|                1|\n",
      "|  10|                1|\n",
      "|  14|                1|\n",
      "|   1|                1|\n",
      "+----+-----------------+\n",
      "only showing top 20 rows\n",
      "\n"
     ]
    }
   ],
   "source": [
    "#Cancellation happened hours during the day\n",
    "spark.udf.register(\"get_hour\", lambda x: int(datetime.datetime.fromtimestamp(x / 1000.0).hour))\n",
    "churn_in_hour = spark.sql('''\n",
    "          SELECT get_hour(ts) AS hour, COUNT(*) as plays_cancle_hour\n",
    "          FROM df_table\n",
    "          where page = \"Cancellation Confirmation\"\n",
    "          GROUP BY hour\n",
    "          ORDER BY plays_cancle_hour DESC\n",
    "          '''\n",
    "          ).show()"
   ]
  },
  {
   "cell_type": "code",
   "execution_count": 15,
   "metadata": {},
   "outputs": [
    {
     "name": "stdout",
     "output_type": "stream",
     "text": [
      "+----+--------------+\n",
      "|hour|plays_per_hour|\n",
      "+----+--------------+\n",
      "|   0|          9062|\n",
      "|   1|          8388|\n",
      "|   2|          8336|\n",
      "|   3|          8355|\n",
      "|   4|          8147|\n",
      "|   5|          8178|\n",
      "|   6|          8054|\n",
      "|   7|          8091|\n",
      "|   8|          8253|\n",
      "|   9|          8498|\n",
      "|  10|          8882|\n",
      "|  11|          8830|\n",
      "|  12|          9326|\n",
      "|  13|          9644|\n",
      "|  14|         10494|\n",
      "|  15|         11354|\n",
      "|  16|         11636|\n",
      "|  17|         11460|\n",
      "|  18|         11124|\n",
      "|  19|         10930|\n",
      "|  20|         10856|\n",
      "|  21|         10458|\n",
      "|  22|         10122|\n",
      "|  23|          9630|\n",
      "+----+--------------+\n",
      "\n"
     ]
    }
   ],
   "source": [
    "#songs played distribution in hour\n",
    "songs_in_hour = spark.sql('''\n",
    "          SELECT get_hour(ts) AS hour, COUNT(*) as plays_per_hour\n",
    "          FROM df_table\n",
    "          WHERE page = \"NextSong\"\n",
    "          GROUP BY hour\n",
    "          ORDER BY cast(hour as int) ASC\n",
    "          '''\n",
    "          ).show(24)"
   ]
  },
  {
   "cell_type": "code",
   "execution_count": 16,
   "metadata": {},
   "outputs": [
    {
     "name": "stdout",
     "output_type": "stream",
     "text": [
      "+--------------------+-----+\n",
      "|              Artist|plays|\n",
      "+--------------------+-----+\n",
      "|       Kings Of Leon| 1841|\n",
      "|            Coldplay| 1813|\n",
      "|Florence + The Ma...| 1236|\n",
      "|       Dwight Yoakam| 1135|\n",
      "|            BjÃÂ¶rk| 1133|\n",
      "+--------------------+-----+\n",
      "\n"
     ]
    }
   ],
   "source": [
    "#top 5 most played artist\n",
    "\n",
    "spark.sql(\"SELECT Artist, COUNT(Artist) AS plays \\\n",
    "        FROM df_table \\\n",
    "        GROUP BY Artist \\\n",
    "        ORDER BY plays DESC \\\n",
    "        LIMIT 5\").show()"
   ]
  },
  {
   "cell_type": "code",
   "execution_count": 17,
   "metadata": {},
   "outputs": [
    {
     "data": {
      "text/plain": [
       "225"
      ]
     },
     "execution_count": 17,
     "metadata": {},
     "output_type": "execute_result"
    }
   ],
   "source": [
    "# Create a churn userID\n",
    "churn = spark.sql('SELECT DISTINCT userId, 1 as churn FROM df_table \\\n",
    "                    WHERE Page = \"Cancellation Confirmation\"')\n",
    "\n",
    "# non churn userID\n",
    "no_churn = spark.sql('SELECT DISTINCT userId, 0 as churn FROM df_table \\\n",
    "                      WHERE userId NOT IN (SELECT DISTINCT userId \\\n",
    "                      FROM df_table WHERE Page = \"Cancellation Confirmation\")')\n",
    "\n",
    "churn_df = churn.union(no_churn)\n",
    "churn_df.createOrReplaceTempView('churn')\n",
    "churn_df = spark.sql('SELECT * FROM churn ORDER BY RAND()')\n",
    "churn_df.createOrReplaceTempView('churn')\n",
    "\n",
    "# Check user count match with ealier user row count\n",
    "churn_df.count()"
   ]
  },
  {
   "cell_type": "code",
   "execution_count": 18,
   "metadata": {},
   "outputs": [
    {
     "data": {
      "text/html": [
       "<div>\n",
       "<style scoped>\n",
       "    .dataframe tbody tr th:only-of-type {\n",
       "        vertical-align: middle;\n",
       "    }\n",
       "\n",
       "    .dataframe tbody tr th {\n",
       "        vertical-align: top;\n",
       "    }\n",
       "\n",
       "    .dataframe thead th {\n",
       "        text-align: right;\n",
       "    }\n",
       "</style>\n",
       "<table border=\"1\" class=\"dataframe\">\n",
       "  <thead>\n",
       "    <tr style=\"text-align: right;\">\n",
       "      <th></th>\n",
       "      <th>churn</th>\n",
       "      <th>userId</th>\n",
       "    </tr>\n",
       "  </thead>\n",
       "  <tbody>\n",
       "    <tr>\n",
       "      <th>0</th>\n",
       "      <td>0</td>\n",
       "      <td>173</td>\n",
       "    </tr>\n",
       "    <tr>\n",
       "      <th>1</th>\n",
       "      <td>1</td>\n",
       "      <td>52</td>\n",
       "    </tr>\n",
       "  </tbody>\n",
       "</table>\n",
       "</div>"
      ],
      "text/plain": [
       "   churn  userId\n",
       "0      0     173\n",
       "1      1      52"
      ]
     },
     "execution_count": 18,
     "metadata": {},
     "output_type": "execute_result"
    }
   ],
   "source": [
    "# Distribution of users between churning or not\n",
    "churn_pd_df = churn_df.toPandas()\n",
    "churn_pd_df.groupby('churn', as_index=False).count()"
   ]
  },
  {
   "cell_type": "code",
   "execution_count": 19,
   "metadata": {},
   "outputs": [
    {
     "name": "stdout",
     "output_type": "stream",
     "text": [
      "+-----+------+-----+\n",
      "|churn|gender|count|\n",
      "+-----+------+-----+\n",
      "|    0|     M|   89|\n",
      "|    0|     F|   84|\n",
      "|    1|     M|   32|\n",
      "|    1|     F|   20|\n",
      "+-----+------+-----+\n",
      "\n"
     ]
    },
    {
     "data": {
      "text/plain": [
       "<matplotlib.axes._subplots.AxesSubplot at 0x7f782e0f9710>"
      ]
     },
     "execution_count": 19,
     "metadata": {},
     "output_type": "execute_result"
    },
    {
     "data": {
      "image/png": "[encoded data removed]",
      "text/plain": [
       "<matplotlib.figure.Figure at 0x7f782e0f9fd0>"
      ]
     },
     "metadata": {
      "needs_background": "light"
     },
     "output_type": "display_data"
    }
   ],
   "source": [
    "# Join our churn to full dataset to add churn column\n",
    "joined_df = df.join(churn_df, on='userId')\n",
    "\n",
    "#compare gender difference\n",
    "joined_df.dropDuplicates([\"userId\", \"gender\"]).groupby([\"churn\", \"gender\"])\\\n",
    ".count().sort(\"churn\", desc(\"gender\")).show()\n",
    "\n",
    "df_new = joined_df.dropDuplicates([\"userId\", \"gender\"]).groupby([\"churn\", \"gender\"]).count().sort(\"churn\").toPandas()\n",
    "sns.barplot(x='churn', y='count', hue='gender', data=df_new)"
   ]
  },
  {
   "cell_type": "code",
   "execution_count": 20,
   "metadata": {},
   "outputs": [
    {
     "data": {
      "image/png": "[encoded data removed]",
      "text/plain": [
       "<matplotlib.figure.Figure at 0x7f7827fef780>"
      ]
     },
     "metadata": {
      "needs_background": "light"
     },
     "output_type": "display_data"
    }
   ],
   "source": [
    "#compare level difference\n",
    "level_df = joined_df.groupBy(['churn', 'level']).count().toPandas()\n",
    "churn_sum = level_df.groupby('churn', as_index=False).sum()\n",
    "level_df['proportion'] = (level_df.join(churn_sum, on = 'churn', lsuffix='_left')['count_left']/level_df.join(churn_sum, on = 'churn', lsuffix='_left')['count'])*100\n",
    "\n",
    "g = sns.barplot(x=\"churn\", y=\"proportion\", hue=\"level\", data=level_df)\n",
    "g.set(xlabel='Churn', ylabel=\"Proportion\")\n",
    "plt.show();"
   ]
  },
  {
   "cell_type": "code",
   "execution_count": 21,
   "metadata": {},
   "outputs": [
    {
     "data": {
      "image/png": "[encoded data removed]",
      "text/plain": [
       "<matplotlib.figure.Figure at 0x7f78694fa6a0>"
      ]
     },
     "metadata": {
      "needs_background": "light"
     },
     "output_type": "display_data"
    },
    {
     "data": {
      "image/png": "[encoded data removed]",
      "text/plain": [
       "<matplotlib.figure.Figure at 0x7f7827784550>"
      ]
     },
     "metadata": {
      "needs_background": "light"
     },
     "output_type": "display_data"
    }
   ],
   "source": [
    "#distribution in each session\n",
    "df_pd = joined_df.groupby(\"churn\", \"userId\", \"sessionId\").count().toPandas()\n",
    "sns.boxplot(x='count', y='churn',orient=\"h\",  data=df_pd)\n",
    "\n",
    "# get the average length \n",
    "length_df = joined_df.groupBy(['userId', 'churn']).avg('length').toPandas()\n",
    "\n",
    "# visualize the distribution of length between two groups of users\n",
    "g = sns.FacetGrid(length_df, col=\"churn\", sharey=False)\n",
    "g.map(plt.hist, \"avg(length)\");"
   ]
  },
  {
   "cell_type": "code",
   "execution_count": 22,
   "metadata": {},
   "outputs": [
    {
     "data": {
      "text/plain": [
       "<matplotlib.axes._subplots.AxesSubplot at 0x7f782778ba58>"
      ]
     },
     "execution_count": 22,
     "metadata": {},
     "output_type": "execute_result"
    },
    {
     "data": {
      "image/png": "[encoded data removed]",
      "text/plain": [
       "<matplotlib.figure.Figure at 0x7f782775c2e8>"
      ]
     },
     "metadata": {
      "needs_background": "light"
     },
     "output_type": "display_data"
    }
   ],
   "source": [
    "churn_count = joined_df.filter(joined_df.churn==1).count()\n",
    "no_churn_count = joined_df.filter(joined_df.churn==0).count()\n",
    "\n",
    "df_temp1 = joined_df.filter(joined_df.churn==1).filter(joined_df.page!=\"NextSong\").groupby([\"page\"]).count()\n",
    "df_temp1 = df_temp1.withColumn(\"churnFreq\", df_temp1[\"count\"]/(churn_count/100)).sort(\"page\")\n",
    "\n",
    "df_temp2 = joined_df.filter(joined_df.churn==0).filter(joined_df.page!=\"NextSong\").groupby([\"page\"]).count()\n",
    "df_temp2 = df_temp2.withColumn(\"nonChurnFreq\", df_temp2[\"count\"]/(no_churn_count/100)).sort(\"page\")\n",
    "df_pd = df_temp1.join(df_temp2, \"page\", \"outer\").drop(\"count\").fillna(0).toPandas()\n",
    "df_pd.plot.bar(\"page\")\n"
   ]
  },
  {
   "cell_type": "code",
   "execution_count": 23,
   "metadata": {
    "scrolled": true
   },
   "outputs": [
    {
     "name": "stdout",
     "output_type": "stream",
     "text": [
      "+-----+-----+-----+\n",
      "|churn|state|count|\n",
      "+-----+-----+-----+\n",
      "|    1|   CA|    6|\n",
      "|    1|   PA|    5|\n",
      "|    1|   FL|    3|\n",
      "|    1|   TX|    3|\n",
      "|    1|   MI|    3|\n",
      "+-----+-----+-----+\n",
      "only showing top 5 rows\n",
      "\n",
      "+-----+-----+-----+\n",
      "|churn|state|count|\n",
      "+-----+-----+-----+\n",
      "|    0|   CA|   27|\n",
      "|    0|   PA|   13|\n",
      "|    0|   TX|   13|\n",
      "|    0|   FL|   11|\n",
      "|    0|   WI|    9|\n",
      "+-----+-----+-----+\n",
      "only showing top 5 rows\n",
      "\n"
     ]
    }
   ],
   "source": [
    "# create  state column\n",
    "joined_df = joined_df.withColumn('state', substring(joined_df['location'], -2, 3))\n",
    "# the ts column is actually a unix timestamp, which we convert to a date format\n",
    "joined_df = joined_df.withColumn('date', from_unixtime((col('ts')/1000)).cast(DateType()))\n",
    "\n",
    "joined_df.dropDuplicates(['userId','churn', 'state']).groupBy(['churn', 'state']).count()\\\n",
    ".where(joined_df['churn'] == 1).sort(col('count').desc()).show(5)\n",
    "\n",
    "joined_df.dropDuplicates(['userId','churn', 'state']).groupBy(['churn', 'state']).count()\\\n",
    ".where(joined_df['churn'] == 0).sort(col('count').desc()).show(5)"
   ]
  },
  {
   "cell_type": "code",
   "execution_count": 24,
   "metadata": {
    "scrolled": true
   },
   "outputs": [
    {
     "data": {
      "image/png": "[encoded data removed]",
      "text/plain": [
       "<matplotlib.figure.Figure at 0x7f78275aac18>"
      ]
     },
     "metadata": {
      "needs_background": "light"
     },
     "output_type": "display_data"
    }
   ],
   "source": [
    "# visualize itemInSession distribution between both groups\n",
    "item_df = joined_df.groupBy(['userId','churn']).avg('itemInSession').toPandas()\n",
    "g = sns.FacetGrid(item_df, col=\"churn\", sharey=False)\n",
    "g.map(plt.hist, \"avg(itemInSession)\");"
   ]
  },
  {
   "cell_type": "code",
   "execution_count": 25,
   "metadata": {},
   "outputs": [
    {
     "data": {
      "image/png": "[encoded data removed]",
      "text/plain": [
       "<matplotlib.figure.Figure at 0x7f78274b5780>"
      ]
     },
     "metadata": {
      "needs_background": "light"
     },
     "output_type": "display_data"
    },
    {
     "data": {
      "image/png": "[encoded data removed]",
      "text/plain": [
       "<matplotlib.figure.Figure at 0x7f78274488d0>"
      ]
     },
     "metadata": {
      "needs_background": "light"
     },
     "output_type": "display_data"
    }
   ],
   "source": [
    "get_hour = udf(lambda x: datetime.datetime.fromtimestamp(x / 1000.0).hour)\n",
    "joined_df = joined_df.withColumn(\"hour\", get_hour(joined_df.ts))\n",
    "\n",
    "get_weekday = udf(lambda x: datetime.datetime.fromtimestamp(x / 1000.0).strftime(\"%w\"))\n",
    "joined_df = joined_df.withColumn(\"weekday\", get_weekday(joined_df.ts))\n",
    "\n",
    "get_day = udf(lambda x: datetime.datetime.fromtimestamp(x / 1000.0).day)\n",
    "joined_df = joined_df.withColumn(\"day\", get_day(joined_df.ts))\n",
    "\n",
    "def plot_by_churnTime(time): \n",
    "    \"\"\"\n",
    "    This function use to plot the distribution of different dimension\n",
    "    \"\"\"\n",
    "    df_pd = joined_df.filter(joined_df.page == \"NextSong\").groupby(\"churn\", time).count().orderBy(joined_df[time].cast(\"float\")).toPandas()\n",
    "    df_pd[time] = pd.to_numeric(df_pd[time])\n",
    "    df_pd[df_pd.churn==0].plot.bar(x=time, y='count', color='Blue', label='Not churn')\n",
    "    df_pd[df_pd.churn==1].plot.bar(x=time, y='count', color='Red', label='Churn')\n",
    "\n",
    "plot_by_churnTime(\"hour\")\n"
   ]
  },
  {
   "cell_type": "code",
   "execution_count": 26,
   "metadata": {},
   "outputs": [
    {
     "data": {
      "image/png": "[encoded data removed]",
      "text/plain": [
       "<matplotlib.figure.Figure at 0x7f782771eb00>"
      ]
     },
     "metadata": {
      "needs_background": "light"
     },
     "output_type": "display_data"
    },
    {
     "data": {
      "image/png": "[encoded data removed]",
      "text/plain": [
       "<matplotlib.figure.Figure at 0x7f7827821a58>"
      ]
     },
     "metadata": {
      "needs_background": "light"
     },
     "output_type": "display_data"
    }
   ],
   "source": [
    "plot_by_churnTime(\"weekday\")"
   ]
  },
  {
   "cell_type": "code",
   "execution_count": 27,
   "metadata": {},
   "outputs": [
    {
     "data": {
      "image/png": "[encoded data removed]",
      "text/plain": [
       "<matplotlib.figure.Figure at 0x7f7827854400>"
      ]
     },
     "metadata": {
      "needs_background": "light"
     },
     "output_type": "display_data"
    },
    {
     "data": {
      "image/png": "[encoded data removed]",
      "text/plain": [
       "<matplotlib.figure.Figure at 0x7f782738ea58>"
      ]
     },
     "metadata": {
      "needs_background": "light"
     },
     "output_type": "display_data"
    }
   ],
   "source": [
    "plot_by_churnTime(\"day\")"
   ]
  },
  {
   "cell_type": "code",
   "execution_count": 28,
   "metadata": {},
   "outputs": [
    {
     "name": "stdout",
     "output_type": "stream",
     "text": [
      "+------+------------------+\n",
      "|userId|         registDay|\n",
      "+------+------------------+\n",
      "|100010| 55.64365740740741|\n",
      "|200002| 70.07462962962963|\n",
      "|   125| 71.31688657407408|\n",
      "|   124|131.55591435185184|\n",
      "|    51|19.455844907407407|\n",
      "+------+------------------+\n",
      "only showing top 5 rows\n",
      "\n"
     ]
    }
   ],
   "source": [
    "#number of days since registration\n",
    "user_max_ts = joined_df.groupby(\"userId\").max(\"ts\").sort(\"userId\")\n",
    "user_reg_ts = joined_df.select(\"userId\", \"registration\").dropDuplicates().sort(\"userId\")\n",
    "user_reg_days = user_reg_ts.join(user_max_ts, user_reg_ts.userId == user_max_ts.userId).select(user_reg_ts[\"userId\"], ((user_max_ts[\"max(ts)\"]-user_reg_ts[\"registration\"])/(1000*60*60*24)).alias(\"registDay\"))\n",
    "\n",
    "user_reg_days.show(5)"
   ]
  },
  {
   "cell_type": "markdown",
   "metadata": {},
   "source": [
    "# Feature Engineering\n",
    "Once you've familiarized yourself with the data, build out the features you find promising to train your model on. To work with the full dataset, you can follow the following steps.\n",
    "- Write a script to extract the necessary features from the smaller subset of data\n",
    "- Ensure that your script is scalable, using the best practices discussed in Lesson 3\n",
    "- Try your script on the full data set, debugging your script if necessary\n",
    "\n",
    "If you are working in the classroom workspace, you can just extract features based on the small subset of data contained here. Be sure to transfer over this work to the larger dataset when you work on your Spark cluster."
   ]
  },
  {
   "cell_type": "code",
   "execution_count": 29,
   "metadata": {},
   "outputs": [],
   "source": [
    "def feature_engineering(filepath):\n",
    "    '''\n",
    "    Create necessary features to use machine learning algorithms.\n",
    "    First loads data set from file\n",
    "    Inputs\n",
    "        filepath (str) - path to json dataset on file       \n",
    "    Outputs\n",
    "        data - feauture engineered dataset\n",
    "    '''\n",
    "    #load  and clean data\n",
    "    df = spark.read.json(filepath)  \n",
    "    df = df.filter((df.userId != \"\") | (df.sessionId != \"\"))\n",
    "    \n",
    "    users = df.select('userId').dropDuplicates()\n",
    "    \n",
    "    churn = udf(lambda x: int(x==\"Cancellation Confirmation\"), IntegerType())\n",
    "    downgrade_churn = udf(lambda x: int(x==\"Submit Downgrade\"), IntegerType())\n",
    "    visited_downgrade = udf(lambda x: int(x=='Downgrade'), IntegerType())\n",
    "    Roll_Advert =  udf(lambda x: int(x=='Roll Advert'), IntegerType())\n",
    "    get_day = udf(lambda x: datetime.datetime.fromtimestamp(x/1000), DateType())\n",
    "    free = udf(lambda x: int(x=='free'), IntegerType())\n",
    "    paid = udf(lambda x: int(x=='paid'), IntegerType())\n",
    "    male = udf(lambda x: int(x=='M'), IntegerType())\n",
    "    female = udf(lambda x: int(x=='F'), IntegerType())\n",
    "\n",
    "    \n",
    "    churn = df.withColumn(\"downgraded\", downgrade_churn(\"page\"))\\\n",
    "        .withColumn(\"cancelled\", churn(\"page\"))\\\n",
    "        .withColumn('visited_downgrade', visited_downgrade('page'))\\\n",
    "        .withColumn('roll_advert', Roll_Advert('page'))\\\n",
    "        .select(['userId', 'downgraded', 'cancelled',  'visited_downgrade','roll_advert'])\\\n",
    "        .groupBy('userId').sum()\\\n",
    "        .withColumnRenamed('sum(downgraded)', 'downgraded')\\\n",
    "        .withColumnRenamed('sum(cancelled)', 'cancelled')\\\n",
    "        .withColumnRenamed('sum(visited_downgrade)', 'visited_downgrade')\\\n",
    "        .withColumnRenamed('sum(roll_advert)', 'roll_advert')\n",
    "    \n",
    "      #avg daily visits to help /Error site\n",
    "    dailyHelpVisit = df.filter(df.page=='Help')\\\n",
    "        .select('userId', 'page', 'ts', 'length')\\\n",
    "        .withColumn('date', get_day(col('ts')))\\\n",
    "        .groupBy('userId', 'date').agg({'page':'count'})\\\n",
    "        .groupBy('userId').mean()\\\n",
    "         .withColumnRenamed('avg(count(page))', 'dailyHelpVisits')\n",
    "\n",
    "    dailyErrors = df.filter(df.page=='Error')\\\n",
    "        .select('userId', 'page', 'ts', 'length')\\\n",
    "        .withColumn('date', get_day(col('ts')))\\\n",
    "        .groupBy('userId', 'date').agg({'page':'count'})\\\n",
    "        .groupBy('userId').mean()\\\n",
    "        .withColumnRenamed('avg(count(page))', 'dailyErrors')\n",
    "    \n",
    "\n",
    "    user_level = df.select('userId', 'level','gender')\\\n",
    "        .where((df.level=='free')|(df.level=='paid'))\\\n",
    "        .dropDuplicates()\\\n",
    "        .withColumn('free', free('level'))\\\n",
    "        .withColumn('paid', paid('level')).drop('level')\\\n",
    "        .withColumn('male', male('gender'))\\\n",
    "        .withColumn('female', female('gender')).drop('gender')\n",
    "    \n",
    "    avgThumbsUp = df.filter(df.page=='Thumbs Up')\\\n",
    "        .select('userId', 'page', 'ts')\\\n",
    "        .withColumn('date', get_day(col('ts')))\\\n",
    "        .groupBy('userId', 'date').agg({'page':'count'}).groupBy('userId')\\\n",
    "        .mean().withColumnRenamed('avg(count(page))', 'avgThumbsUp')\n",
    "    \n",
    "    avgThumbsDown = df.filter(df.page=='Thumbs Down')\\\n",
    "        .select('userId', 'page', 'ts')\\\n",
    "        .withColumn('date', get_day(col('ts')))\\\n",
    "        .groupBy('userId', 'date').agg({'page':'count'})\\\n",
    "        .groupBy('userId').mean()\\\n",
    "        .withColumnRenamed('avg(count(page))', 'avgThumbsDown')\n",
    "    \n",
    "    numFriends = df.filter(df.page=='Add Friend')\\\n",
    "        .select('userId', 'page')\\\n",
    "        .groupBy('userId').count().withColumnRenamed('count', 'numFriends')\n",
    "    \n",
    "    #number of days since registration\n",
    "    user_max_ts = df.groupby(\"userId\").max(\"ts\").sort(\"userId\")\n",
    "    user_reg_ts = df.select(\"userId\", \"registration\").dropDuplicates().sort(\"userId\")\n",
    "    user_reg_days = user_reg_ts.join(user_max_ts, user_reg_ts.userId == user_max_ts.userId)\\\n",
    "        .select(user_reg_ts[\"userId\"], ((user_max_ts[\"max(ts)\"]-user_reg_ts[\"registration\"])/(1000*60*60*24)).alias(\"registDay\"))\n",
    "    \n",
    "    #average song played length\n",
    "    songplaylength = df.filter(df.page=='NextSong')\\\n",
    "        .select('userId', 'length')\\\n",
    "        .groupBy('userId').mean()\\\n",
    "        .withColumnRenamed('avg(length)', 'avg_songplaylength')\n",
    "    \n",
    "    # put all the features together\n",
    "    df = users.join(churn, on='userId')\\\n",
    "        .join(dailyHelpVisit, on='userId')\\\n",
    "        .join(dailyErrors, on='userId')\\\n",
    "        .join(user_level, on='userId')\\\n",
    "        .join(avgThumbsUp, on='userId')\\\n",
    "        .join(avgThumbsDown, on='userId')\\\n",
    "        .join(numFriends, on='userId')\\\n",
    "        .join(user_reg_days, on='userId')\\\n",
    "        .join(songplaylength, on='userId')\n",
    "  \n",
    "    return df"
   ]
  },
  {
   "cell_type": "code",
   "execution_count": 30,
   "metadata": {},
   "outputs": [],
   "source": [
    "from pyspark.ml.feature import MinMaxScaler\n",
    "def feature_scaling(df):\n",
    "    '''\n",
    "    Put the features into a vector and normalize it by scaler\n",
    "    Inputs\n",
    "        data - feauture engineered dataset      \n",
    "    Outputs\n",
    "        normalized dataframe\n",
    "    '''   \n",
    "    feature_cols = df.drop('userId', 'cancelled').columns\n",
    "    assembler = VectorAssembler(inputCols=feature_cols,\\\n",
    "                                outputCol='feature_vec')\n",
    "    \n",
    "    \n",
    "    df = df.withColumn(\"label\", df[\"cancelled\"].cast(DoubleType()))\n",
    "    \n",
    "    #pyspark default name for features vector column: 'featuresCol'\n",
    "    minmaxscaler = MinMaxScaler(inputCol=\"feature_vec\", outputCol=\"features\")\n",
    "    \n",
    "    df = assembler.transform(df)\n",
    "    minmaxscaler_model = minmaxscaler.fit(df)\n",
    "    scaled_df = minmaxscaler_model.transform(df)\n",
    "    return scaled_df"
   ]
  },
  {
   "cell_type": "markdown",
   "metadata": {},
   "source": [
    "# Modeling\n",
    "Split the full dataset into train, test, and validation sets. Test out several of the machine learning methods you learned. Evaluate the accuracy of the various models, tuning parameters as necessary. Determine your winning model based on test accuracy and report results on the validation set. Since the churned users are a fairly small subset, I suggest using F1 score as the metric to optimize."
   ]
  },
  {
   "cell_type": "code",
   "execution_count": 31,
   "metadata": {
    "scrolled": true
   },
   "outputs": [
    {
     "data": {
      "text/plain": [
       "DataFrame[userId: string, downgraded: bigint, cancelled: bigint, visited_downgrade: bigint, roll_advert: bigint, dailyHelpVisits: double, dailyErrors: double, free: int, paid: int, male: int, female: int, avgThumbsUp: double, avgThumbsDown: double, numFriends: bigint, registDay: double, avg_songplaylength: double, label: double, feature_vec: vector, features: vector]"
      ]
     },
     "execution_count": 31,
     "metadata": {},
     "output_type": "execute_result"
    }
   ],
   "source": [
    "data = feature_engineering(\"mini_sparkify_event_data.json\")\n",
    "data = feature_scaling(data)\n",
    "data.persist()"
   ]
  },
  {
   "cell_type": "code",
   "execution_count": 32,
   "metadata": {},
   "outputs": [
    {
     "name": "stdout",
     "output_type": "stream",
     "text": [
      "root\n",
      " |-- userId: string (nullable = true)\n",
      " |-- downgraded: long (nullable = true)\n",
      " |-- cancelled: long (nullable = true)\n",
      " |-- visited_downgrade: long (nullable = true)\n",
      " |-- roll_advert: long (nullable = true)\n",
      " |-- dailyHelpVisits: double (nullable = true)\n",
      " |-- dailyErrors: double (nullable = true)\n",
      " |-- free: integer (nullable = true)\n",
      " |-- paid: integer (nullable = true)\n",
      " |-- male: integer (nullable = true)\n",
      " |-- female: integer (nullable = true)\n",
      " |-- avgThumbsUp: double (nullable = true)\n",
      " |-- avgThumbsDown: double (nullable = true)\n",
      " |-- numFriends: long (nullable = false)\n",
      " |-- registDay: double (nullable = true)\n",
      " |-- avg_songplaylength: double (nullable = true)\n",
      " |-- label: double (nullable = true)\n",
      " |-- feature_vec: vector (nullable = true)\n",
      " |-- features: vector (nullable = true)\n",
      "\n"
     ]
    }
   ],
   "source": [
    "data.printSchema()"
   ]
  },
  {
   "cell_type": "code",
   "execution_count": 33,
   "metadata": {},
   "outputs": [
    {
     "name": "stdout",
     "output_type": "stream",
     "text": [
      "Training Dataset Count: 138\n",
      "Test Dataset Count: 58\n"
     ]
    }
   ],
   "source": [
    "train, test = data.randomSplit([0.7, 0.3], seed=101)\n",
    "print(\"Training Dataset Count: \" + str(train.count()))\n",
    "print(\"Test Dataset Count: \" + str(test.count()))\n",
    "pr = BinaryClassificationEvaluator(metricName='areaUnderPR')\n",
    "roc = BinaryClassificationEvaluator(metricName='areaUnderROC')"
   ]
  },
  {
   "cell_type": "code",
   "execution_count": 34,
   "metadata": {},
   "outputs": [],
   "source": [
    "import seaborn as sns\n",
    "import matplotlib.pyplot as plt\n",
    "def custom_evaluation(pred, model_name):   \n",
    "    '''  \n",
    "    Inputs\n",
    "        predictions from model, model name\n",
    "    '''\n",
    "    pr = BinaryClassificationEvaluator(metricName='areaUnderPR')\n",
    "    pr_auc=pr.evaluate(pred)\n",
    "    \n",
    "    print(f\"{model_name} \\nPR AUC = {pr_auc}\")\n",
    "    \n",
    "    predictionRDD = pred.select(['label', 'prediction']).rdd\\\n",
    "                        .map(lambda line: (line[1], line[0]))\n",
    "    # Instantiate metrics object\n",
    "    metrics = MulticlassMetrics(predictionRDD)\n",
    "\n",
    "    # Summary stats\n",
    "    #print(\"Precision = %s\" % metrics.precision())\n",
    "    print(\"F1 measure = %s\" % metrics.fMeasure())\n",
    "    #print(\"Accuracy = %s\" % metrics.accuracy)\n",
    "    \n",
    "    conf_matrix = metrics.confusionMatrix().toArray()\n",
    "    sns.set(font_scale=1.4)\n",
    "    ax = sns.heatmap(conf_matrix, annot=True,annot_kws={\"size\": 16})\n",
    "    ax.set(xlabel='Predicted Label', ylabel='True Label', title='CM')\n",
    "    plt.show()"
   ]
  },
  {
   "cell_type": "code",
   "execution_count": 35,
   "metadata": {
    "scrolled": false
   },
   "outputs": [
    {
     "name": "stdout",
     "output_type": "stream",
     "text": [
      "Logistic Regression \n",
      "PR AUC = 0.15517241379310345\n",
      "F1 measure = 0.8448275862068966\n"
     ]
    },
    {
     "data": {
      "image/png": "[encoded data removed]",
      "text/plain": [
       "<matplotlib.figure.Figure at 0x7f7827233080>"
      ]
     },
     "metadata": {},
     "output_type": "display_data"
    }
   ],
   "source": [
    "#This is  binary classification modeling\n",
    "#logistic regression model\n",
    "logReg = LogisticRegression(maxIter=10, regParam=0.3, elasticNetParam=0.8)\n",
    "lrModel = logReg.fit(train)\n",
    "lr_preds = lrModel.transform(test)\n",
    "custom_evaluation(lr_preds, 'Logistic Regression')\n"
   ]
  },
  {
   "cell_type": "code",
   "execution_count": 36,
   "metadata": {
    "scrolled": true
   },
   "outputs": [
    {
     "name": "stdout",
     "output_type": "stream",
     "text": [
      "SVM \n",
      "PR AUC = 0.5096177272828459\n",
      "F1 measure = 0.8448275862068966\n"
     ]
    },
    {
     "data": {
      "image/png": "[encoded data removed]",
      "text/plain": [
       "<matplotlib.figure.Figure at 0x7f782718c0b8>"
      ]
     },
     "metadata": {},
     "output_type": "display_data"
    }
   ],
   "source": [
    "#SVM\n",
    "svm = LinearSVC(maxIter=10, regParam=0.1)\n",
    "svm_model=svm.fit(train)\n",
    "svm_preds=svm_model.transform(test)\n",
    "custom_evaluation(svm_preds, 'SVM')"
   ]
  },
  {
   "cell_type": "code",
   "execution_count": 37,
   "metadata": {
    "scrolled": true
   },
   "outputs": [
    {
     "name": "stdout",
     "output_type": "stream",
     "text": [
      "Random Forest \n",
      "PR AUC = 0.830317897346883\n",
      "F1 measure = 0.9137931034482759\n"
     ]
    },
    {
     "data": {
      "image/png": "[encoded data removed]",
      "text/plain": [
       "<matplotlib.figure.Figure at 0x7f78271904a8>"
      ]
     },
     "metadata": {},
     "output_type": "display_data"
    }
   ],
   "source": [
    "#random forest classifier model\n",
    "rf = RandomForestClassifier(numTrees=10)\n",
    "rf_model = rf.fit(train)\n",
    "rf_preds = rf_model.transform(test)\n",
    "custom_evaluation(rf_preds, 'Random Forest')"
   ]
  },
  {
   "cell_type": "code",
   "execution_count": 38,
   "metadata": {},
   "outputs": [
    {
     "name": "stdout",
     "output_type": "stream",
     "text": [
      "Gradient Boosted Trees \n",
      "PR AUC = 0.9882716049382716\n",
      "F1 measure = 0.9827586206896551\n"
     ]
    },
    {
     "data": {
      "image/png": "[encoded data removed]",
      "text/plain": [
       "<matplotlib.figure.Figure at 0x7f782711f550>"
      ]
     },
     "metadata": {},
     "output_type": "display_data"
    }
   ],
   "source": [
    "#gradient boosted trees \n",
    "gbtrees = GBTClassifier(maxIter=10)\n",
    "gbtree_model = gbtrees.fit(train)\n",
    "gbtree_preds = gbtree_model.transform(test)\n",
    "custom_evaluation(gbtree_preds, 'Gradient Boosted Trees')"
   ]
  },
  {
   "cell_type": "markdown",
   "metadata": {},
   "source": [
    "Performance Metrics measurement :\n",
    "Evaluate the selected model instance on the test set using both AUC and F1 score metric.\n",
    "\n",
    "AUC(Area Under the Curve) is a standard binary classification metric at various thresholds settings that works well for imbalanced data-sets.\n",
    "TPR (True Positive Rate) / Recall /Sensitivity = TP/(TP+FN)\n",
    "Specificity = TN/(TN+FP)\n",
    "FPR = 1-Specificity=FP/(TN+FP)\n",
    "An excellent model has AUC near to the 1 which means it has good measure of separability.And when AUC is 0.5, it means model has no class separation capacity whatsoever.AUC ranges in value from 0 to 1. A model whose predictions are 100% wrong has an AUC of 0\n",
    "\n",
    "AUC is desirable for the following two reasons:\n",
    "1.AUC is scale-invariant. It measures how well predictions are ranked, rather than their absolute values.\n",
    "2.AUC is classification-threshold-invariant. It measures the quality of the model's predictions irrespective of what classification threshold is chosen.\n",
    "\n",
    "\n",
    "F1 score is defined as the harmonic mean of precision and recall\n",
    "F1 = 2*precision*recall/(precision+recall)\n",
    "\n",
    "Precision is computing the proportion of positive class identifications being the correct ones, in mathematical expressions it is\n",
    "precision = tp/(tp + fp)\n",
    "\n",
    "Recall is computing the proportion of actual positive class samples being identified correctly, in mathematical expressions it is,\n",
    "recall = tp/(tp + fn)\n",
    "\n",
    "the reason of using F1 it is due to imbalance class distributions existed in the dataset. Since only a small portion of users will eventually churn, we would like our model to correctly identify them instead of pursuing a high overall performance. \n",
    "\n",
    "Gradient boosting model showed the best performance (Highest AUC =0.988 and F1 Score =0.983) in the test set. "
   ]
  },
  {
   "cell_type": "markdown",
   "metadata": {},
   "source": [
    "Based on evaluator  review: \n",
    "\"Make sure you include a Refinement section. In this section, you will need to discuss the process of improvement you made upon the algorithms and techniques you used in your implementation. For example, adjusting parameters for certain models to acquire improved solutions would fall under the refinement category. Your initial and final solutions should be reported, as well as any significant intermediate results as necessary.\n",
    "This is typically we we would use something like hyper-parameter tuning and cross-validation to try and improve your results.\"\n",
    "so below added Optimization by Hyperparameter Tuning"
   ]
  },
  {
   "cell_type": "code",
   "execution_count": 39,
   "metadata": {},
   "outputs": [
    {
     "name": "stdout",
     "output_type": "stream",
     "text": [
      "Tuned Random Forest \n",
      "PR AUC = 0.9306397306397306\n",
      "F1 measure = 0.9482758620689655\n"
     ]
    },
    {
     "data": {
      "image/png": "[encoded data removed]",
      "text/plain": [
       "<matplotlib.figure.Figure at 0x7f78270dd160>"
      ]
     },
     "metadata": {},
     "output_type": "display_data"
    }
   ],
   "source": [
    "#Optimization by Hyperparameter Tuning\n",
    "# Use grid search to find the best hyperparameters for random forest\n",
    "rf1 = RandomForestClassifier()\n",
    "\n",
    "# Set different hyperparameter values\n",
    "rf1_pg = ParamGridBuilder() \\\n",
    "    .addGrid(rf1.minInfoGain, [0, 1]) \\\n",
    "    .addGrid(rf1.numTrees, [3, 10]) \\\n",
    "    .addGrid(rf1.maxDepth, [4, 8]) \\\n",
    "    .build()\n",
    "\n",
    "# Build cross validation classifier\n",
    "rf1_cv = CrossValidator(estimator=rf1,\n",
    "                    estimatorParamMaps=rf1_pg,\n",
    "                    evaluator=MulticlassClassificationEvaluator(metricName='f1'),\n",
    "                    numFolds = 5)\n",
    "\n",
    "# Fit cross validation model\n",
    "rf1_cv_model = rf1_cv.fit(train)\n",
    "# Evaluate best model using the valid data\n",
    "prediction = rf1_cv_model.bestModel.transform(test)\n",
    "custom_evaluation(prediction, 'Tuned Random Forest')"
   ]
  },
  {
   "cell_type": "code",
   "execution_count": 43,
   "metadata": {},
   "outputs": [
    {
     "data": {
      "text/html": [
       "<div>\n",
       "<style scoped>\n",
       "    .dataframe tbody tr th:only-of-type {\n",
       "        vertical-align: middle;\n",
       "    }\n",
       "\n",
       "    .dataframe tbody tr th {\n",
       "        vertical-align: top;\n",
       "    }\n",
       "\n",
       "    .dataframe thead th {\n",
       "        text-align: right;\n",
       "    }\n",
       "</style>\n",
       "<table border=\"1\" class=\"dataframe\">\n",
       "  <thead>\n",
       "    <tr style=\"text-align: right;\">\n",
       "      <th></th>\n",
       "      <th>importance</th>\n",
       "      <th>feature</th>\n",
       "    </tr>\n",
       "  </thead>\n",
       "  <tbody>\n",
       "    <tr>\n",
       "      <th>10</th>\n",
       "      <td>0.317687</td>\n",
       "      <td>avgThumbsDown</td>\n",
       "    </tr>\n",
       "    <tr>\n",
       "      <th>11</th>\n",
       "      <td>0.231668</td>\n",
       "      <td>numFriends</td>\n",
       "    </tr>\n",
       "    <tr>\n",
       "      <th>12</th>\n",
       "      <td>0.111427</td>\n",
       "      <td>registDay</td>\n",
       "    </tr>\n",
       "    <tr>\n",
       "      <th>3</th>\n",
       "      <td>0.104889</td>\n",
       "      <td>dailyHelpVisits</td>\n",
       "    </tr>\n",
       "    <tr>\n",
       "      <th>13</th>\n",
       "      <td>0.070866</td>\n",
       "      <td>avg_songplaylength</td>\n",
       "    </tr>\n",
       "    <tr>\n",
       "      <th>1</th>\n",
       "      <td>0.049268</td>\n",
       "      <td>visited_downgrade</td>\n",
       "    </tr>\n",
       "    <tr>\n",
       "      <th>4</th>\n",
       "      <td>0.047172</td>\n",
       "      <td>dailyErrors</td>\n",
       "    </tr>\n",
       "    <tr>\n",
       "      <th>9</th>\n",
       "      <td>0.033445</td>\n",
       "      <td>avgThumbsUp</td>\n",
       "    </tr>\n",
       "    <tr>\n",
       "      <th>0</th>\n",
       "      <td>0.020982</td>\n",
       "      <td>downgraded</td>\n",
       "    </tr>\n",
       "    <tr>\n",
       "      <th>8</th>\n",
       "      <td>0.008951</td>\n",
       "      <td>female</td>\n",
       "    </tr>\n",
       "    <tr>\n",
       "      <th>2</th>\n",
       "      <td>0.002795</td>\n",
       "      <td>roll_advert</td>\n",
       "    </tr>\n",
       "    <tr>\n",
       "      <th>7</th>\n",
       "      <td>0.000851</td>\n",
       "      <td>male</td>\n",
       "    </tr>\n",
       "    <tr>\n",
       "      <th>5</th>\n",
       "      <td>0.000000</td>\n",
       "      <td>free</td>\n",
       "    </tr>\n",
       "    <tr>\n",
       "      <th>6</th>\n",
       "      <td>0.000000</td>\n",
       "      <td>paid</td>\n",
       "    </tr>\n",
       "  </tbody>\n",
       "</table>\n",
       "</div>"
      ],
      "text/plain": [
       "    importance             feature\n",
       "10    0.317687       avgThumbsDown\n",
       "11    0.231668          numFriends\n",
       "12    0.111427           registDay\n",
       "3     0.104889     dailyHelpVisits\n",
       "13    0.070866  avg_songplaylength\n",
       "1     0.049268   visited_downgrade\n",
       "4     0.047172         dailyErrors\n",
       "9     0.033445         avgThumbsUp\n",
       "0     0.020982          downgraded\n",
       "8     0.008951              female\n",
       "2     0.002795         roll_advert\n",
       "7     0.000851                male\n",
       "5     0.000000                free\n",
       "6     0.000000                paid"
      ]
     },
     "execution_count": 43,
     "metadata": {},
     "output_type": "execute_result"
    }
   ],
   "source": [
    "#featureImportances analysis\n",
    "feature_cols1 = train.drop('userId', 'cancelled').columns\n",
    "gb_fi_df = pd.DataFrame(gbtree_model.featureImportances.toArray(),columns=['importance'])\n",
    "# Convert list of feature names to pandas column\n",
    "gb_fi_df['feature'] = pd.Series(feature_cols1)\n",
    "# Sort the data based on feature importance\n",
    "gb_fi_df.sort_values(by=['importance'], ascending=False, inplace=True)\n",
    "\n",
    "# Inspect Results\n",
    "gb_fi_df"
   ]
  },
  {
   "cell_type": "markdown",
   "metadata": {},
   "source": [
    "based on review of The final results are discussed in detail.\n",
    "\"Showing the feature Importances are a good idea, but can you also provide some discussion based on them. Do they make sense? Why do you think numFriends was the top? etc....\"\n",
    "So Added this session to address:\n",
    "\n",
    "\n",
    "\n",
    "Feature importance measures how much a feature was used in the model and analyzes which features contribute the most to the accurate model predictions. Above result shows that among all these features for predicting churn with GBT model, The most important feature of identifying churned users is avgThumbsDown which means how many thumb down action gave by the users (31.8%). Intuitively, the more thumb down a user gives the more likely it is that he/she is dissatisfied with the service. The second most important feature is numFriends ( 23.2%) which is not quite easy to understand. My thoughts is since feature importance measures how much a feature participated in the model prediction. numFriends might have nagative impact on the churn effect. like less number of friends indicates more likely cancle the service . The third most important feature is registDay (11.1%). Free or Paid do not contribute to predicting churned users."
   ]
  },
  {
   "cell_type": "code",
   "execution_count": 40,
   "metadata": {},
   "outputs": [
    {
     "name": "stdout",
     "output_type": "stream",
     "text": [
      "Tuned GBT \n",
      "PR AUC = 0.9751543209876543\n",
      "F1 measure = 0.9827586206896551\n"
     ]
    },
    {
     "data": {
      "image/png": "[encoded data removed]",
      "text/plain": [
       "<matplotlib.figure.Figure at 0x7f78271ba940>"
      ]
     },
     "metadata": {},
     "output_type": "display_data"
    }
   ],
   "source": [
    "#Optimization by Hyperparameter Tuning\n",
    "# Use grid search to find the best hyperparameters for Gradient Boosted Trees'\n",
    "feature_cols = df.drop('userId', 'cancelled').columns\n",
    "assembler = VectorAssembler(inputCols=feature_cols,\\\n",
    "                                outputCol='feature_vec')\n",
    "iteration = 100\n",
    "gbt = GBTClassifier(labelCol=\"cancelled\",\n",
    "                    featuresCol='feature_vec', maxIter=iteration)\n",
    "\n",
    "evaluator = BinaryClassificationEvaluator(labelCol='cancelled')\n",
    "\n",
    "# no parameter search\n",
    "paramGrid = ParamGridBuilder().build()\n",
    "\n",
    "# 6-fold cross validation\n",
    "crossval = CrossValidator(estimator=gbt, estimatorParamMaps=paramGrid, evaluator=evaluator, numFolds=6)\n",
    "\n",
    "model_gbt = crossval.fit(train)\n",
    "\n",
    "# Evaluate best model using the valid data\n",
    "prediction = model_gbt.bestModel.transform(test)\n",
    "custom_evaluation(prediction, 'Tuned GBT')"
   ]
  },
  {
   "cell_type": "markdown",
   "metadata": {},
   "source": [
    "based on review:\n",
    "\n",
    "Conclusion \n",
    "\n",
    "Student adequately summarizes the end-to-end problem solution and discusses one or two particular aspects of the project they found interesting or difficult.\n",
    "Make sure you include a Reflection section. In this section, you will summarize the entire end-to-end problem solution and discuss one or two particular aspects of the project you found interesting or difficult. You are expected to reflect on the project as a whole to show that you have a firm understanding of the entire process employed in your work.\n",
    "\n",
    "Discussion is made as to how at least one aspect of the implementation could be improved. Potential solutions resulting from these improvements are considered and compared/contrasted to the current solution.\n",
    "Make sure you include an Improvement section. In this section, you will need to provide discussion as to how one aspect of the implementation you designed could be improved. As an example, consider ways your implementation can be made more general, and what would need to be modified. You do not need to make this improvement, but the potential solutions resulting from these changes are considered and compared/contrasted to your current solution."
   ]
  },
  {
   "cell_type": "markdown",
   "metadata": {},
   "source": [
    "Conclusion\n",
    "\n",
    "Reflection\n",
    "\n",
    "Based on the positive results on the test set,Gradient boosting model showed the performance  of  AUC =0.988 and F1 Score =0.983, we can conclude that this binary classifier can accurately identify users who cancelled the music streaming service based on the features that  users past activity and interaction with the service. If deployed, the trained model could be used to identify users at risk of churning in advance, and help the Sparkify music streaming business prevent financial losses.\n",
    "\n",
    "The most challenging part of the project was the feature engineering  as it required good understand of actity log and intuisions of identifying relationship of users' interaction with all page events .\n",
    "\n",
    "Potential Improvements\n",
    "\n",
    "These models that were trained and tested using the smaller Sparkify data-set that only combines activity logs of only 225 unique users. This means the models are tested on a sample with 58 instances, out of which only around 10 are positive classes, so this leads to unstable performance evaluation results. for  improvements , better to train and test the selected churn prediction models also on the full Sparkify dataset.\n",
    "\n",
    "Also build more features that capture additional insights can improve model performance. Another improvement is in feature engineering part, after all features joining together, only 196 users left, that means there are some users (225-196=29) some feathures are null, so maybe instead of dropping from inner join, using imputation might improve rediction performance. \n",
    "\n",
    "performing comprehensive grid search for the gradient boosting model on full Sparkify dataset should be considered next. \n"
   ]
  },
  {
   "cell_type": "markdown",
   "metadata": {},
   "source": [
    "# Final Steps\n",
    "Clean up your code, adding comments and renaming variables to make the code easier to read and maintain. Refer to the Spark Project Overview page and Data Scientist Capstone Project Rubric to make sure you are including all components of the capstone project and meet all expectations. Remember, this includes thorough documentation in a README file in a Github repository, as well as a web app or blog post."
   ]
  },
  {
   "cell_type": "markdown",
   "metadata": {},
   "source": []
  },
  {
   "cell_type": "code",
   "execution_count": null,
   "metadata": {},
   "outputs": [],
   "source": []
  }
 ],
 "metadata": {
  "kernelspec": {
   "display_name": "Python 3",
   "language": "python",
   "name": "python3"
  },
  "language_info": {
   "codemirror_mode": {
    "name": "ipython",
    "version": 3
   },
   "file_extension": ".py",
   "mimetype": "text/x-python",
   "name": "python",
   "nbconvert_exporter": "python",
   "pygments_lexer": "ipython3",
   "version": "3.6.3"
  }
 },
 "nbformat": 4,
 "nbformat_minor": 2
}
